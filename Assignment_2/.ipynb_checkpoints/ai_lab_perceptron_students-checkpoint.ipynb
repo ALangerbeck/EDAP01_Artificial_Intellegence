{
 "cells": [
  {
   "cell_type": "markdown",
   "id": "sacred-connecticut",
   "metadata": {},
   "source": [
    "# Classification with the perceptron and logistic regression\n",
    "\n",
    "__Individual assignment__\n",
    "\n",
    "Author of the assignment: Pierre Nugues\n",
    "\n",
    "__Student name__:"
   ]
  },
  {
   "cell_type": "markdown",
   "id": "single-jackson",
   "metadata": {},
   "source": [
    "## Objectives\n",
    "\n",
    "The objectives of this second assignment are to:\n",
    "\n",
    "1.  Write a linear regression program using gradient descent;\n",
    "2.  Write linear classifiers using the perceptron algorithm and logistic regression;\n",
    "3.  Experiment variations of the algorithms;\n",
    "4.  Evaluate your classifiers;\n",
    "5.  Experiment with popular tools;\n",
    "6.  Read a scientific article on optimization techniques and comment it;\n",
    "7.  Present your code, results, and comments in a short dissertation."
   ]
  },
  {
   "cell_type": "markdown",
   "id": "photographic-coral",
   "metadata": {},
   "source": [
    "## Overview\n",
    "\n",
    "The gradient descent is a basic technique to estimate linear discriminant functions. You will first use the gradient descent method to implement linear regression. You will then program the perceptron algorithm. Finally, you will improve the threshold function with the logistic curve (logistic regression). You will try various configurations and study their influence on the learning speed and accuracy."
   ]
  },
  {
   "cell_type": "markdown",
   "id": "express-external",
   "metadata": {},
   "source": [
    "##  Programming language\n",
    "As programming language, you will use Python and write your code in this notebook.\n",
    "\n",
    "You need to have a comprehensive Python distribution such as Anaconda (https://www.anaconda.com/products/individual). This distribution is available on the student computers at the computer science department.\n",
    "Finally, you start a notebook by typing:\n",
    "\n",
    "`jupyter lab`\n",
    "\n",
    "in a terminal window and you select the notebook by clicking on it in the left pane.\n",
    "You run the pieces of code by typing shift+enter."
   ]
  },
  {
   "cell_type": "markdown",
   "id": "adjacent-crawford",
   "metadata": {},
   "source": [
    "## Imports\n",
    "Imports you may use"
   ]
  },
  {
   "cell_type": "code",
   "execution_count": 10,
   "id": "demanding-violence",
   "metadata": {},
   "outputs": [],
   "source": [
    "import numpy as np\n",
    "import math\n",
    "import matplotlib.pyplot as plt\n",
    "import random\n",
    "from matplotlib import cm\n",
    "from mpl_toolkits.mplot3d import Axes3D"
   ]
  },
  {
   "cell_type": "markdown",
   "id": "interior-genealogy",
   "metadata": {},
   "source": [
    "## Linear Regression\n",
    "\n",
    "You will implement the gradient descent method as explained in pages 719--720 in Russell-Norvig and in the slides to compute regression lines. You will implement the stochastic and batch versions of the algorithm.\n",
    "\n",
    "You must try to do it yourself first. If you encounter difficulties, you also have the solution to this exercise in the section _Solution to linear regression_ below."
   ]
  },
  {
   "cell_type": "markdown",
   "id": "entire-basic",
   "metadata": {},
   "source": [
    "### Your implementation of linear regression\n",
    "You will implement a regression program to predict the counts of _A_'s in a text from the total count of letters. You will apply it on two data sets corresponding to letter counts in the 15 chapters of the French and English versions of _Salammbô_, where the first column is the total count of characters and the second one, the count of A's. \n",
    "\n",
    "Start with either French or English and when your program ready, test it on the other language."
   ]
  },
  {
   "cell_type": "code",
   "execution_count": 11,
   "id": "forbidden-front",
   "metadata": {},
   "outputs": [],
   "source": [
    "stat_fr = np.array([[36961, 2503],\n",
    "                      [43621, 2992],\n",
    "                      [15694, 1042],\n",
    "                      [36231, 2487],\n",
    "                      [29945, 2014],\n",
    "                      [40588, 2805],\n",
    "                      [75255, 5062],\n",
    "                      [37709, 2643],\n",
    "                      [30899, 2126],\n",
    "                      [25486, 1784],\n",
    "                      [37497, 2641],\n",
    "                      [40398, 2766],\n",
    "                      [74105, 5047],\n",
    "                      [76725, 5312],\n",
    "                      [18317, 1215]])\n",
    "\n",
    "stat_en = np.array([[35680, 2217],\n",
    "                      [42514, 2761],\n",
    "                      [15162, 990],\n",
    "                      [35298, 2274],\n",
    "                      [29800, 1865],\n",
    "                      [40255, 2606],\n",
    "                      [74532, 4805],\n",
    "                      [37464, 2396],\n",
    "                      [31030, 1993],\n",
    "                      [24843, 1627],\n",
    "                      [36172, 2375],\n",
    "                      [39552, 2560],\n",
    "                      [72545, 4597],\n",
    "                      [75352, 4871],\n",
    "                      [18031, 1119]])"
   ]
  },
  {
   "cell_type": "markdown",
   "id": "adaptive-backing",
   "metadata": {},
   "source": [
    "From the datasets above, tell what is $\\mathbf{X}$ and $\\mathbf{y}$. Extract:\n",
    "1. The $\\mathbf{X}$ matrix, where you will have a column to model the intercept;\n",
    "2. The $\\mathbf{y}$ vector\n",
    "\n",
    "from these arrays."
   ]
  },
  {
   "cell_type": "code",
   "execution_count": 12,
   "id": "attached-aluminum",
   "metadata": {},
   "outputs": [
    {
     "name": "stdout",
     "output_type": "stream",
     "text": [
      "[36961 43621 15694 36231 29945 40588 75255 37709 30899 25486 37497 40398\n",
      " 74105 76725 18317]\n",
      "[2503 2992 1042 2487 2014 2805 5062 2643 2126 1784 2641 2766 5047 5312\n",
      " 1215]\n"
     ]
    }
   ],
   "source": [
    "X_feature = stat_fr[:,0]\n",
    "print(X_feature)\n",
    "\n",
    "Y_output = stat_fr[:,1]\n",
    "print(Y_output)\n"
   ]
  },
  {
   "cell_type": "markdown",
   "id": "cross-neighborhood",
   "metadata": {},
   "source": [
    "Scale the arrays so that they fit in the range [0, 1] on the $x$ and $y$ axes. "
   ]
  },
  {
   "cell_type": "code",
   "execution_count": 4,
   "id": "sudden-decision",
   "metadata": {},
   "outputs": [
    {
     "name": "stdout",
     "output_type": "stream",
     "text": [
      "[0.48173346366894754, 0.5685369827305311, 0.2045487129358097, 0.47221896383186707, 0.39028999674160963, 0.5290061909416748, 0.9808406647116324, 0.49148256761159986, 0.40272401433691757, 0.3321733463668948, 0.4887194525904203, 0.5265298142717497, 0.9658520690778756, 1.0, 0.23873574454219615]\n",
      "[0.4711972891566265, 0.5632530120481928, 0.19615963855421686, 0.46818524096385544, 0.37914156626506024, 0.5280496987951807, 0.9529367469879518, 0.4975527108433735, 0.4002259036144578, 0.3358433734939759, 0.4971762048192771, 0.5207078313253012, 0.9501129518072289, 1.0, 0.22872740963855423]\n"
     ]
    }
   ],
   "source": [
    "def norm(array):\n",
    "    temp_array = []\n",
    "    max_value = np.amax(array)\n",
    "    for v in array:\n",
    "        temp_array.append(v/max_value)\n",
    "    return temp_array\n",
    "\n",
    "X_scaled = norm(X_feature)\n",
    "print(X_scaled)\n",
    "\n",
    "Y_scaled = norm(Y_output)\n",
    "print(Y_scaled)"
   ]
  },
  {
   "cell_type": "markdown",
   "id": "motivated-upset",
   "metadata": {},
   "source": [
    "#### Gradient descent"
   ]
  },
  {
   "cell_type": "markdown",
   "id": "careful-supplier",
   "metadata": {},
   "source": [
    "Implement the descent functions. You will pass `X`, `y`, the learning rate in the $\\alpha$ variable, the initial weight vector in `w`, the tolerance in the $\\epsilon$ variable, the maximal number of epochs in `epochs`. You will return `w`."
   ]
  },
  {
   "cell_type": "markdown",
   "id": "internal-luther",
   "metadata": {},
   "source": [
    "Batch descent"
   ]
  },
  {
   "cell_type": "code",
   "execution_count": 5,
   "id": "planned-italy",
   "metadata": {},
   "outputs": [],
   "source": [
    "# Write your code here\n",
    "def fit_batch(X, y, alpha, w,\n",
    "                  epochs=500,\n",
    "                  epsilon=1.0e-5):\n",
    "    iterations = 0\n",
    "    grad  = epsilon + 1\n",
    "    while(iterations < epochs and np.linalg.norm(grad) > epsilon):\n",
    "        for x_i, y_i in zip(X,y):\n",
    "            y_hat = np.dot(w, np.array([1.0, x_i]))\n",
    "            grad = np.array([1.0, x_i.T] * (y_i - y_hat))\n",
    "            w += alpha * grad/np.size(X) \n",
    "        iterations += 1\n",
    "    return w"
   ]
  },
  {
   "cell_type": "markdown",
   "id": "french-sight",
   "metadata": {},
   "source": [
    "Stochastic descent"
   ]
  },
  {
   "cell_type": "code",
   "execution_count": 6,
   "id": "emerging-vegetation",
   "metadata": {},
   "outputs": [],
   "source": [
    "# Write your code here\n",
    "def fit_stoch(X, y, alpha, w,\n",
    "                  epochs=500,\n",
    "                  epsilon=1.0e-5):\n",
    "    iterations = 0\n",
    "    random.seed(0)\n",
    "    idx = list(range(len(X)))\n",
    "    loss = epsilon +1\n",
    "    while(iterations < epochs and np.linalg.norm(loss) > epsilon):\n",
    "        random.shuffle(idx)\n",
    "        for x_i in idx:\n",
    "            loss = (y[x_i] - (X[x_i] @ w))*X[x_i]\n",
    "            w = w + alpha*loss\n",
    "        iterations += 1\n",
    "    return w\n",
    "            "
   ]
  },
  {
   "cell_type": "markdown",
   "id": "junior-kazakhstan",
   "metadata": {},
   "source": [
    "#### Applying batch descent"
   ]
  },
  {
   "cell_type": "markdown",
   "id": "treated-assets",
   "metadata": {},
   "source": [
    "Apply the batch descent and print the final weight values "
   ]
  },
  {
   "cell_type": "code",
   "execution_count": 7,
   "id": "maritime-andorra",
   "metadata": {},
   "outputs": [
    {
     "name": "stdout",
     "output_type": "stream",
     "text": [
      "Weights: [[0.00238385 0.98666329]]\n"
     ]
    }
   ],
   "source": [
    "# Write your code here\n",
    "alpha = 1\n",
    "w = np.zeros((1,2))\n",
    "w = fit_batch(X_scaled, Y_scaled, alpha, w)\n",
    "print(\"Weights: {0}\".format(w))"
   ]
  },
  {
   "cell_type": "markdown",
   "id": "virgin-blast",
   "metadata": {},
   "source": [
    "Visualize the points of your dataset as well as the regression lines you obtain using matplotlib or another similar program."
   ]
  },
  {
   "cell_type": "code",
   "execution_count": 13,
   "id": "durable-stationery",
   "metadata": {},
   "outputs": [
    {
     "data": {
      "image/png": "[encoded data removed]",
      "text/plain": [
       "<Figure size 432x288 with 1 Axes>"
      ]
     },
     "metadata": {
      "needs_background": "light"
     },
     "output_type": "display_data"
    }
   ],
   "source": [
    "# Write your code here\n",
    "plt.scatter(X_scaled,Y_scaled)\n",
    "x_values = np.linspace(0,1,100)\n",
    "y_values = w[0][1]*x_values + w[0][0]\n",
    "plt.plot(x_values,y_values)\n",
    "plt.show()"
   ]
  },
  {
   "cell_type": "markdown",
   "id": "consistent-tampa",
   "metadata": {},
   "source": [
    "#### Stochastic descent"
   ]
  },
  {
   "cell_type": "code",
   "execution_count": 14,
   "id": "distinct-cruise",
   "metadata": {},
   "outputs": [
    {
     "name": "stdout",
     "output_type": "stream",
     "text": [
      "Weights: [-0.00259758  0.97654398]\n"
     ]
    }
   ],
   "source": [
    "# Write your code here\n",
    "alpha = 1 \n",
    "ones = np.ones((15,1))\n",
    "y_input = np.array([Y_scaled]).T\n",
    "x_input = np.column_stack((ones, X_scaled))\n",
    "w_stoch = np.array([0,0])\n",
    "w_stoch = fit_stoch(x_input, y_input, alpha, w_stoch)\n",
    "print(\"Weights: {0}\".format(w_stoch))"
   ]
  },
  {
   "cell_type": "markdown",
   "id": "fuzzy-circular",
   "metadata": {},
   "source": [
    "Visualize the points of your dataset as well as the regression lines you obtain using matplotlib or another similar program."
   ]
  },
  {
   "cell_type": "code",
   "execution_count": 15,
   "id": "illegal-steps",
   "metadata": {},
   "outputs": [
    {
     "data": {
      "image/png": "[encoded data removed]",
      "text/plain": [
       "<Figure size 432x288 with 1 Axes>"
      ]
     },
     "metadata": {
      "needs_background": "light"
     },
     "output_type": "display_data"
    }
   ],
   "source": [
    "# Write your code here\n",
    "plt.scatter(X_scaled,Y_scaled)\n",
    "x_values = np.linspace(0,1,100)\n",
    "y_values = w_stoch[1]*x_values + w_stoch[0]\n",
    "plt.plot(x_values,y_values)\n",
    "plt.show()"
   ]
  },
  {
   "cell_type": "markdown",
   "id": "biological-assignment",
   "metadata": {},
   "source": [
    "### A solution to linear regression\n",
    "\n",
    "To help you start this assignment, your instructor wrote two Python notebooks that solve this exercise on linear regression. You can find them here: https://github.com/pnugues/ilppp/tree/master/programs/ch04/python\n",
    "The first notebook, `gradient_descent.ipynb`, only uses Python and vector operations such as the dot product that are in the `vector.py` file.\n",
    "The second notebook, `gradient_descent_numpy.ipynb`, uses Numpy. It is more compact, but you need to know a bit of numpy.\n",
    "\n",
    "To run these programs, download them on your computer as well as the other program in the import list: vector.py\n",
    "\n",
    "The programs are also available as Python programs from\n",
    "https://github.com/pnugues/ilppp/tree/master/programs/ch04/python"
   ]
  },
  {
   "cell_type": "markdown",
   "id": "suspended-province",
   "metadata": {},
   "source": [
    "## Classification\n",
    "You will use the same data set as for linear regression, but this time to classify a chapter as French or English. Given a pair of numbers corresponding the letter count and count of _A_, you will predict the language:\n",
    "1. $\\mathbf{x} = (35680, 2217)$ $\\to$ $y$ = English\n",
    "2. $\\mathbf{x} = (37497, 2641)$ $\\to$ $y$ = French"
   ]
  },
  {
   "cell_type": "markdown",
   "id": "joint-psychology",
   "metadata": {},
   "source": [
    "### The dataset\n",
    "You will use the arrays below:\n",
    "1. `X` contains the counts of letters and of _A_ s as well as a column of ones for the intercept;\n",
    "2. `y` contains the classes, where 0 is for English and 1 for French."
   ]
  },
  {
   "cell_type": "code",
   "execution_count": 16,
   "id": "sustainable-payment",
   "metadata": {},
   "outputs": [],
   "source": [
    "X = [[1.0, 35680.0, 2217.0],\n",
    "     [1.0, 42514.0, 2761.0],\n",
    "     [1.0, 15162.0, 990.0],\n",
    "     [1.0, 35298.0, 2274.0],\n",
    "     [1.0, 29800.0, 1865.0],\n",
    "     [1.0, 40255.0, 2606.0],\n",
    "     [1.0, 74532.0, 4805.0],\n",
    "     [1.0, 37464.0, 2396.0],\n",
    "     [1.0, 31030.0, 1993.0],\n",
    "     [1.0, 24843.0, 1627.0],\n",
    "     [1.0, 36172.0, 2375.0],\n",
    "     [1.0, 39552.0, 2560.0],\n",
    "     [1.0, 72545.0, 4597.0],\n",
    "     [1.0, 75352.0, 4871.0],\n",
    "     [1.0, 18031.0, 1119.0],\n",
    "     [1.0, 36961.0, 2503.0],\n",
    "     [1.0, 43621.0, 2992.0],\n",
    "     [1.0, 15694.0, 1042.0],\n",
    "     [1.0, 36231.0, 2487.0],\n",
    "     [1.0, 29945.0, 2014.0],\n",
    "     [1.0, 40588.0, 2805.0],\n",
    "     [1.0, 75255.0, 5062.0],\n",
    "     [1.0, 37709.0, 2643.0],\n",
    "     [1.0, 30899.0, 2126.0],\n",
    "     [1.0, 25486.0, 1784.0],\n",
    "     [1.0, 37497.0, 2641.0],\n",
    "     [1.0, 40398.0, 2766.0],\n",
    "     [1.0, 74105.0, 5047.0],\n",
    "     [1.0, 76725.0, 5312.0],\n",
    "     [1.0, 18317.0, 1215.0]]\n",
    "y = [0.0, 0.0, 0.0, 0.0, 0.0, 0.0, 0.0, 0.0, 0.0, 0.0, 0.0, 0.0, 0.0, 0.0, 0.0,\n",
    "     1.0, 1.0, 1.0, 1.0, 1.0, 1.0, 1.0, 1.0, 1.0, 1.0, 1.0, 1.0, 1.0, 1.0, 1.0]"
   ]
  },
  {
   "cell_type": "markdown",
   "id": "emerging-looking",
   "metadata": {},
   "source": [
    "We visualize it"
   ]
  },
  {
   "cell_type": "code",
   "execution_count": 17,
   "id": "verified-bridal",
   "metadata": {},
   "outputs": [],
   "source": [
    "x_fr = [x[1] for i, x in enumerate(X) if y[i] == 1]\n",
    "y_fr = [x[2] for i, x in enumerate(X) if y[i] == 1]\n",
    "x_en = [x[1] for i, x in enumerate(X) if y[i] == 0]\n",
    "y_en = [x[2] for i, x in enumerate(X) if y[i] == 0]"
   ]
  },
  {
   "cell_type": "code",
   "execution_count": 18,
   "id": "constitutional-carry",
   "metadata": {},
   "outputs": [
    {
     "data": {
      "text/plain": [
       "<matplotlib.collections.PathCollection at 0x1a0a7d98310>"
      ]
     },
     "execution_count": 18,
     "metadata": {},
     "output_type": "execute_result"
    },
    {
     "data": {
      "image/png": "[encoded data removed]",
      "text/plain": [
       "<Figure size 432x288 with 1 Axes>"
      ]
     },
     "metadata": {
      "needs_background": "light"
     },
     "output_type": "display_data"
    }
   ],
   "source": [
    "plt.scatter(x_fr, y_fr, color='red')\n",
    "plt.scatter(x_en, y_en, color='blue')"
   ]
  },
  {
   "cell_type": "markdown",
   "id": "mineral-pointer",
   "metadata": {},
   "source": [
    "### Normalize the dataset"
   ]
  },
  {
   "cell_type": "markdown",
   "id": "imported-reporter",
   "metadata": {},
   "source": [
    "Gradient descent algorithms can be very sensitive to the range. Therefore, we normalize the dataset."
   ]
  },
  {
   "cell_type": "code",
   "execution_count": 19,
   "id": "adequate-words",
   "metadata": {},
   "outputs": [],
   "source": [
    "def normalize(observations):\n",
    "    maxima = [max([obs[i] for obs in observations]) for i in range(len(observations[0]))]\n",
    "    return ([[obs[i] / maxima[i]\n",
    "              for i in range(len(observations[0]))] for obs in observations],\n",
    "            maxima)"
   ]
  },
  {
   "cell_type": "code",
   "execution_count": 20,
   "id": "conservative-effectiveness",
   "metadata": {},
   "outputs": [
    {
     "data": {
      "text/plain": [
       "[[1.0, 0.4650374714890844, 0.4173569277108434],\n",
       " [1.0, 0.5541088302378625, 0.5197665662650602],\n",
       " [1.0, 0.19761485826001954, 0.18637048192771086],\n",
       " [1.0, 0.460058651026393, 0.42808734939759036],\n",
       " [1.0, 0.3884001303356142, 0.3510918674698795],\n",
       " [1.0, 0.5246660149885957, 0.49058734939759036],\n",
       " [1.0, 0.9714173998044966, 0.9045557228915663],\n",
       " [1.0, 0.4882893450635386, 0.4510542168674699],\n",
       " [1.0, 0.4044314108830238, 0.37518825301204817],\n",
       " [1.0, 0.32379276637341153, 0.30628765060240964],\n",
       " [1.0, 0.47144998370804825, 0.4471009036144578],\n",
       " [1.0, 0.5155034213098729, 0.4819277108433735],\n",
       " [1.0, 0.9455197132616487, 0.8653990963855421],\n",
       " [1.0, 0.9821049201694363, 0.916980421686747],\n",
       " [1.0, 0.2350081459758879, 0.21065512048192772],\n",
       " [1.0, 0.48173346366894754, 0.4711972891566265],\n",
       " [1.0, 0.5685369827305311, 0.5632530120481928],\n",
       " [1.0, 0.2045487129358097, 0.19615963855421686],\n",
       " [1.0, 0.47221896383186707, 0.46818524096385544],\n",
       " [1.0, 0.39028999674160963, 0.37914156626506024],\n",
       " [1.0, 0.5290061909416748, 0.5280496987951807],\n",
       " [1.0, 0.9808406647116324, 0.9529367469879518],\n",
       " [1.0, 0.49148256761159986, 0.4975527108433735],\n",
       " [1.0, 0.40272401433691757, 0.4002259036144578],\n",
       " [1.0, 0.3321733463668948, 0.3358433734939759],\n",
       " [1.0, 0.4887194525904203, 0.4971762048192771],\n",
       " [1.0, 0.5265298142717497, 0.5207078313253012],\n",
       " [1.0, 0.9658520690778756, 0.9501129518072289],\n",
       " [1.0, 1.0, 1.0],\n",
       " [1.0, 0.23873574454219615, 0.22872740963855423]]"
      ]
     },
     "execution_count": 20,
     "metadata": {},
     "output_type": "execute_result"
    }
   ],
   "source": [
    "X_norm, maxima = normalize(X)\n",
    "X_norm"
   ]
  },
  {
   "cell_type": "markdown",
   "id": "attached-reverse",
   "metadata": {},
   "source": [
    "## The Perceptron\n",
    "\n",
    "1. Write the perceptron program as explained in pages 723--725 in Russell-Norvig and in the slides and run it on your data set. As suggested program structure, use two functions: \n",
    " * `fit(X, y)` that will return `w` (the model). You can choose a stochastic or batch variant;\n",
    " * `predict(X, w)` that will return `y_hat`. You can encapsulate these functions in a class and, of course, add more parameters.\n",
    "2. As a stop criterion, you will use the number of misclassified examples.\n",
    "3. You will report the parameters you have used and the weight vector\n",
    "\n",
    "You can use numpy or not. The next cells are just suggested steps. You can implement it your way."
   ]
  },
  {
   "cell_type": "markdown",
   "id": "applicable-missouri",
   "metadata": {},
   "source": [
    "### The `predict(X, w)` function\n",
    "Write a `predict(X, w)` function that given a matrix of observations $\\mathbf{X}$ and a weight vector $\\mathbf{w}$ will return a $\\mathbf{\\hat{y}}$ vector classes (0 or 1)"
   ]
  },
  {
   "cell_type": "code",
   "execution_count": 21,
   "id": "demanding-stage",
   "metadata": {},
   "outputs": [],
   "source": [
    "# Write your code here\n",
    "def predict(X, w):\n",
    "    pred =  X @ w\n",
    "    if pred > 0:\n",
    "        return 1\n",
    "    else:\n",
    "        return 0\n"
   ]
  },
  {
   "cell_type": "markdown",
   "id": "choice-morgan",
   "metadata": {},
   "source": [
    "### The `fit(X, y)` function"
   ]
  },
  {
   "cell_type": "markdown",
   "id": "documented-cartridge",
   "metadata": {},
   "source": [
    "Write a `fit(X, y)` function that given a matrix of observations $\\mathbf{X}$ and a vector of responses $\\mathbf{y}$ will return a weight $\\mathbf{w}$ vector. You may use the other arguments of the function, notably the number of misclassified examples to define the stop condition."
   ]
  },
  {
   "cell_type": "code",
   "execution_count": 22,
   "id": "therapeutic-balloon",
   "metadata": {},
   "outputs": [],
   "source": [
    "# Write your code here\n",
    "def fit_stoch(X, y,\n",
    "              epochs=1000,\n",
    "              max_misclassified=1,\n",
    "              verbose=True):\n",
    "    iterations = 0\n",
    "    X = np.array(X)\n",
    "    y = np.array(y).reshape(len(y),1)\n",
    "    w = np.array([0,0,0])\n",
    "    learn_rate = 1\n",
    "    while iterations < epochs:\n",
    "        misclassified = 0\n",
    "        random.seed(0)\n",
    "        idx = list(range(len(X)))\n",
    "        random.shuffle(idx)\n",
    "        for idx in idx:\n",
    "            feuture_val = X[idx, :]\n",
    "            output_val = y[idx]\n",
    "            pred =  predict(w, feuture_val)\n",
    "            w = w + learn_rate*(output_val - pred)*feuture_val\n",
    "            if output_val != pred:\n",
    "                misclassified += 1\n",
    "        if misclassified <= max_misclassified:\n",
    "            break\n",
    "    return w\n",
    "\n",
    "\n"
   ]
  },
  {
   "cell_type": "markdown",
   "id": "accessory-graduate",
   "metadata": {},
   "source": [
    "### Fitting the dataset"
   ]
  },
  {
   "cell_type": "code",
   "execution_count": 23,
   "id": "reported-uniform",
   "metadata": {},
   "outputs": [
    {
     "data": {
      "text/plain": [
       "array([  0.        , -28.8420202 ,  30.40455572])"
      ]
     },
     "execution_count": 23,
     "metadata": {},
     "output_type": "execute_result"
    }
   ],
   "source": [
    "w = fit_stoch(X_norm, y)\n",
    "w"
   ]
  },
  {
   "cell_type": "code",
   "execution_count": 24,
   "id": "formal-bahamas",
   "metadata": {},
   "outputs": [
    {
     "name": "stdout",
     "output_type": "stream",
     "text": [
      "Restored weights [0.0, -1.996856452435748, 30.404555722891644]\n",
      "Weights with y set to 1 [0.0, -0.06567622532080977, 1.0]\n"
     ]
    }
   ],
   "source": [
    "w = [w[i] * maxima[-1] / maxima[i] for i in range(len(w))]\n",
    "print(\"Restored weights\", w)\n",
    "w = [w[j] / w[-1] for j in range(len(w))]\n",
    "print(\"Weights with y set to 1\", w)"
   ]
  },
  {
   "cell_type": "markdown",
   "id": "demographic-control",
   "metadata": {},
   "source": [
    "### Visualizing the results"
   ]
  },
  {
   "cell_type": "code",
   "execution_count": 25,
   "id": "forward-enclosure",
   "metadata": {},
   "outputs": [
    {
     "data": {
      "text/plain": [
       "[<matplotlib.lines.Line2D at 0x1a0a7defdf0>]"
      ]
     },
     "execution_count": 25,
     "metadata": {},
     "output_type": "execute_result"
    },
    {
     "data": {
      "image/png": "[encoded data removed]",
      "text/plain": [
       "<Figure size 432x288 with 1 Axes>"
      ]
     },
     "metadata": {
      "needs_background": "light"
     },
     "output_type": "display_data"
    }
   ],
   "source": [
    "plt.scatter(x_fr, y_fr, color='red')\n",
    "plt.scatter(x_en, y_en, color='blue')\n",
    "plt.plot([min(x_fr + x_en), max(x_fr + x_en)],\n",
    "             [-w[1] * min(x_fr + x_en) - w[0], -w[1] * max(x_fr + x_en) - w[0]])"
   ]
  },
  {
   "cell_type": "markdown",
   "id": "eleven-honolulu",
   "metadata": {},
   "source": [
    "### Evaluation\n",
    "Evaluate your perceptron using the leave-one-out cross validation method. You will have to train and run 30 models. In each train/run session, you will train on 29 samples and evaluate on the remaining sample. You have then either a correct or a wrong classification. You will sum these classifications, i.e. the number of correct classifications, to get your final evaluation, for instance 29/30."
   ]
  },
  {
   "cell_type": "code",
   "execution_count": 26,
   "id": "patent-leeds",
   "metadata": {},
   "outputs": [],
   "source": [
    "# Write your code here\n",
    "def leave_one_out_cross_val(X, y, fitting_function):\n",
    "    data_lenght = len(X)\n",
    "    w = [0,0,0]\n",
    "    correctPred = 0\n",
    "    \n",
    "    for validationIndex in range(data_lenght):\n",
    "        tempX = X\n",
    "        tempy = y\n",
    "        validation_feature = tempX[validationIndex]\n",
    "        validation_output = tempy[validationIndex]\n",
    "        \n",
    "        tempX = np.delete(tempX,validationIndex,0)\n",
    "        tempy = np.delete(tempy,validationIndex)\n",
    "        \n",
    "        w = fitting_function(tempX,tempy)\n",
    "        \n",
    "        prediction = validation_feature @ w\n",
    "        if (prediction > 0 and validation_output == 1) or (prediction < 0 and validation_output == 0):\n",
    "            correctPred += 1\n",
    "            print(\"Fold {0} on {1}: weights: {2}: Correct\".format(validationIndex+1,data_lenght,w))\n",
    "        else:  \n",
    "            print(\"Fold {0} on {1}: weights: {2}: Wrong\".format(validationIndex+1,data_lenght,w))\n",
    "    return correctPred/data_lenght\n",
    "        \n"
   ]
  },
  {
   "cell_type": "code",
   "execution_count": 27,
   "id": "continuing-archive",
   "metadata": {},
   "outputs": [
    {
     "name": "stdout",
     "output_type": "stream",
     "text": [
      "Fold 1 on 30: weights: [  0.         -34.62364288  36.16679217]: Correct\n",
      "Fold 2 on 30: weights: [  0.         -34.80698599  36.33019578]: Correct\n",
      "Fold 3 on 30: weights: [  0.         -34.80698599  36.33019578]: Correct\n",
      "Fold 4 on 30: weights: [  0.         -16.30012382  17.08019578]: Correct\n",
      "Fold 5 on 30: weights: [  0.         -16.45604431  17.27692018]: Correct\n",
      "Fold 6 on 30: weights: [  0.         -14.89567937  15.57548946]: Correct\n",
      "Fold 7 on 30: weights: [  0.         -70.77265559  74.34732681]: Correct\n",
      "Fold 8 on 30: weights: [  0.         -36.06559791  37.73079819]: Correct\n",
      "Fold 9 on 30: weights: [  0.         -36.06559791  37.73079819]: Correct\n",
      "Fold 10 on 30: weights: [  0.         -32.81054415  34.32661898]: Correct\n",
      "Fold 11 on 30: weights: [  0.         -32.78778755  34.49924699]: Correct\n",
      "Fold 12 on 30: weights: [  0.         -32.78701857  34.52033133]: Correct\n",
      "Fold 13 on 30: weights: [  0.         -32.78701857  34.52033133]: Correct\n",
      "Fold 14 on 30: weights: [  0.         -32.63967416  34.37255271]: Correct\n",
      "Fold 15 on 30: weights: [  0.         -32.86743565  34.62292922]: Correct\n",
      "Fold 16 on 30: weights: [  0.         -32.59863148  34.33960843]: Correct\n",
      "Fold 17 on 30: weights: [  0.         -32.59863148  34.33960843]: Correct\n",
      "Fold 18 on 30: weights: [  0.         -32.59863148  34.33960843]: Correct\n",
      "Fold 19 on 30: weights: [  0.         -24.13119583  25.35862199]: Correct\n",
      "Fold 20 on 30: weights: [  0.         -25.55263604  26.91001506]: Correct\n",
      "Fold 21 on 30: weights: [  0.         -25.45146953  26.56720633]: Correct\n",
      "Fold 22 on 30: weights: [  0.         -25.45146953  26.56720633]: Correct\n",
      "Fold 23 on 30: weights: [  0.         -38.94175301  41.05252259]: Correct\n",
      "Fold 24 on 30: weights: [  0.         -38.89556207  41.00771837]: Correct\n",
      "Fold 25 on 30: weights: [  0.         -38.94807429  41.06061747]: Correct\n",
      "Fold 26 on 30: weights: [  0.         -22.91022483  24.06137048]: Correct\n",
      "Fold 27 on 30: weights: [  0.         -28.53656566  30.00244729]: Correct\n",
      "Fold 28 on 30: weights: [  0.         -28.53656566  30.00244729]: Correct\n",
      "Fold 29 on 30: weights: [  0.         -21.98459433  23.17093373]: Correct\n",
      "Fold 30 on 30: weights: [  0.         -45.54140111  47.58659639]: Correct\n",
      "Cross-validation accuracy (stochastic): 1.0\n"
     ]
    }
   ],
   "source": [
    "stoch_accuracy = leave_one_out_cross_val(X_norm, y, fit_stoch)\n",
    "print('Cross-validation accuracy (stochastic):', stoch_accuracy)"
   ]
  },
  {
   "cell_type": "markdown",
   "id": "toxic-score",
   "metadata": {},
   "source": [
    "## Logistic Regression\n",
    "From your perceptron program, implement logistic regression. You can either follow the description from the textbook, S. Russell and R. Norvig, _Artificial Intelligence_, 2010, pages 725--727, or the slides. You can either implement the stochastic or the batch version of the algorithm, or both versions. As stop criterion, you will use either the norm of the gradient or the norm of the difference between two consecutive weight vectors. You will also set a maximal number of epochs. Run the resulting program on your data set."
   ]
  },
  {
   "cell_type": "markdown",
   "id": "variable-albania",
   "metadata": {},
   "source": [
    "Write the logistic function, where the $x$ input is a real number."
   ]
  },
  {
   "cell_type": "code",
   "execution_count": 28,
   "id": "secret-orbit",
   "metadata": {},
   "outputs": [],
   "source": [
    "# part of delta L(w)\n",
    "def logistic(x):\n",
    "    return 1/(1+np.exp(-x))\n"
   ]
  },
  {
   "cell_type": "markdown",
   "id": "atmospheric-payroll",
   "metadata": {},
   "source": [
    "### The `predict(X, w)` function"
   ]
  },
  {
   "cell_type": "markdown",
   "id": "motivated-mustang",
   "metadata": {},
   "source": [
    "Write a `predict_proba()` function that given a matrix of observations $\\mathbf{X}$ and a weight vector $\\mathbf{w}$ will return a vector of probabilities to belong to class 1: The vector will consist of $P(1|\\mathbf{x}_i)$ for all the $i$ rows of $\\mathbf{X}$."
   ]
  },
  {
   "cell_type": "code",
   "execution_count": 29,
   "id": "genuine-sharing",
   "metadata": {},
   "outputs": [],
   "source": [
    "# Write your code here\n",
    "def predict_proba(X, w):\n",
    "    return logistic(w @ X)"
   ]
  },
  {
   "cell_type": "markdown",
   "id": "front-salad",
   "metadata": {},
   "source": [
    "Write a `predict(X, w)` function that given a matrix of observations $\\mathbf{X}$ and a weight vector $\\mathbf{w}$ will return the class. You will use `predict_proba()` and set the threshold to belong to class 1 to 0.5."
   ]
  },
  {
   "cell_type": "code",
   "execution_count": 30,
   "id": "historic-intention",
   "metadata": {},
   "outputs": [],
   "source": [
    "# Write your code here\n",
    "def predict(X, w):\n",
    "    if predict_proba(X,w) > 0.5:\n",
    "        return 1\n",
    "    else:\n",
    "        return 0\n"
   ]
  },
  {
   "cell_type": "markdown",
   "id": "assisted-variation",
   "metadata": {},
   "source": [
    "### The `fit(X, y)` function"
   ]
  },
  {
   "cell_type": "markdown",
   "id": "blind-relation",
   "metadata": {},
   "source": [
    "You will now write the `fit(X, y)` function as with the perceptron. You may call it `fit_stoch(X, y)` or `fit_batch(X, y)`. Use the parameters given in the cell below."
   ]
  },
  {
   "cell_type": "code",
   "execution_count": 62,
   "id": "parallel-reynolds",
   "metadata": {},
   "outputs": [],
   "source": [
    "# Write your code here\n",
    "import random\n",
    "def fit_stoch(X, y, alpha=100,\n",
    "              epochs=1000,\n",
    "              epsilon=1.0e-4,\n",
    "              verbose=False):\n",
    "    X = np.array(X)\n",
    "    y = np.array(y)\n",
    "    iterations = 0\n",
    "    w = np.array([0,0,0])\n",
    "    idx = list(range(len(X)))\n",
    "    deltaL = epsilon\n",
    "    while (iterations < epochs): # and (np.linalg.norm(deltaL) >= epsilon )):\n",
    "        random.seed(0)\n",
    "        random.shuffle(idx)\n",
    "        for  i in idx:\n",
    "            xColumns = X[i][:]\n",
    "            #print(xColumns)\n",
    "            yValue = y[i]\n",
    "            deltaL = xColumns*(yValue - predict(xColumns,w))\n",
    "            w = w + alpha*deltaL\n",
    "        iterations += 1\n",
    "    return w\n",
    "            "
   ]
  },
  {
   "cell_type": "code",
   "execution_count": 63,
   "id": "naughty-sphere",
   "metadata": {},
   "outputs": [
    {
     "data": {
      "text/plain": [
       "array([   0.       , -298.0149886,  312.5564759])"
      ]
     },
     "execution_count": 63,
     "metadata": {},
     "output_type": "execute_result"
    }
   ],
   "source": [
    "w = fit_stoch(X_norm, y, verbose=True)\n",
    "w"
   ]
  },
  {
   "cell_type": "code",
   "execution_count": 64,
   "id": "experienced-manor",
   "metadata": {},
   "outputs": [
    {
     "name": "stdout",
     "output_type": "stream",
     "text": [
      "Restored weights [0.0, -0.003884196658137948, 0.05883969802402385]\n",
      "Weights with y set to 1 [0.0, -0.06601319837759971, 1.0]\n"
     ]
    }
   ],
   "source": [
    "w = [w[i] / maxima[i] for i in range(len(w))]\n",
    "print(\"Restored weights\", w)\n",
    "w = [w[j] / w[-1] for j in range(len(w))]\n",
    "print(\"Weights with y set to 1\", w)"
   ]
  },
  {
   "cell_type": "markdown",
   "id": "coastal-motion",
   "metadata": {},
   "source": [
    "### Visualizing the results"
   ]
  },
  {
   "cell_type": "code",
   "execution_count": 65,
   "id": "illegal-evans",
   "metadata": {},
   "outputs": [
    {
     "data": {
      "image/png": "[encoded data removed]",
      "text/plain": [
       "<Figure size 432x288 with 1 Axes>"
      ]
     },
     "metadata": {
      "needs_background": "light"
     },
     "output_type": "display_data"
    }
   ],
   "source": [
    "plt.scatter(x_fr, y_fr, color='red')\n",
    "plt.scatter(x_en, y_en, color='blue')\n",
    "plt.plot([min(x_fr + x_en), max(x_fr + x_en)],\n",
    "         [-w[1] * min(x_fr + x_en) - w[0], -w[1] * max(x_fr + x_en) - w[0]])\n",
    "plt.show()"
   ]
  },
  {
   "cell_type": "markdown",
   "id": "wireless-value",
   "metadata": {},
   "source": [
    "### Evaluation\n",
    "Evaluate your logistic regression using the leave-one-out cross validation method as with the perceptron"
   ]
  },
  {
   "cell_type": "code",
   "execution_count": 66,
   "id": "offensive-trinity",
   "metadata": {},
   "outputs": [],
   "source": [
    "def leave_one_out_cross_val(X, y, fitting_function):\n",
    "    data_lenght = len(X)\n",
    "    w = [0,0,0]\n",
    "    correctPred = 0\n",
    "\n",
    "    for validationIndex in range(data_lenght):\n",
    "        tempX = X\n",
    "        tempy = y\n",
    "        validation_feature = tempX[validationIndex]\n",
    "        validation_output = tempy[validationIndex]\n",
    "\n",
    "        tempX = np.delete(tempX,validationIndex,0)\n",
    "        tempy = np.delete(tempy,validationIndex)\n",
    "\n",
    "        w = fitting_function(tempX,tempy)\n",
    "\n",
    "        prediction = validation_feature @ w\n",
    "        if (prediction > 0 and validation_output == 1) or (prediction < 0 and validation_output == 0):\n",
    "            correctPred += 1\n",
    "            print(\"Fold {0} on {1}: weights: {2}: Correct\".format(validationIndex+1,data_lenght,w))\n",
    "        else:  \n",
    "            print(\"Fold {0} on {1}: weights: {2}: Wrong\".format(validationIndex+1,data_lenght,w))\n",
    "    return correctPred/data_lenght\n",
    "        \n",
    "\n"
   ]
  },
  {
   "cell_type": "code",
   "execution_count": 67,
   "id": "simple-chile",
   "metadata": {},
   "outputs": [
    {
     "name": "stderr",
     "output_type": "stream",
     "text": [
      "C:\\Users\\98all\\AppData\\Local\\Temp\\ipykernel_5188\\3703674631.py:3: RuntimeWarning: overflow encountered in exp\n",
      "  return 1/(1+np.exp(-x))\n"
     ]
    },
    {
     "name": "stdout",
     "output_type": "stream",
     "text": [
      "Fold 1 on 30: weights: [-4.90000e+03 -1.10460e+06  1.67617e+07]: Correct\n",
      "Fold 2 on 30: weights: [-4.60000e+03 -9.82400e+05  1.49137e+07]: Correct\n",
      "Fold 3 on 30: weights: [ 7.00000e+02 -8.76500e+05  1.33408e+07]: Correct\n",
      "Fold 4 on 30: weights: [-3.0000e+03 -6.2540e+05  9.4704e+06]: Correct\n",
      "Fold 5 on 30: weights: [-4.0000e+02 -2.1370e+05  3.2441e+06]: Correct\n",
      "Fold 6 on 30: weights: [-2.0000e+03 -5.2830e+05  7.9746e+06]: Correct\n",
      "Fold 7 on 30: weights: [-8.50000e+03 -8.34700e+05  1.26476e+07]: Correct\n",
      "Fold 8 on 30: weights: [-1.7000e+03 -4.6110e+05  6.9556e+06]: Correct\n",
      "Fold 9 on 30: weights: [-5.90000e+03 -1.38890e+06  2.09448e+07]: Correct\n",
      "Fold 10 on 30: weights: [-1.4000e+03 -5.2340e+05  7.9427e+06]: Correct\n",
      "Fold 11 on 30: weights: [-7.7000e+03 -1.4563e+06  2.1958e+07]: Correct\n",
      "Fold 12 on 30: weights: [-3.4000e+03 -6.2070e+05  9.4051e+06]: Correct\n",
      "Fold 13 on 30: weights: [-9.80000e+03 -9.73600e+05  1.46871e+07]: Correct\n",
      "Fold 14 on 30: weights: [-1.9000e+03 -2.0850e+05  3.1433e+06]: Correct\n",
      "Fold 15 on 30: weights: [-1.20000e+03 -9.01500e+05  1.37115e+07]: Correct\n",
      "Fold 16 on 30: weights: [-1.4000e+03 -1.8150e+05  2.7601e+06]: Correct\n",
      "Fold 17 on 30: weights: [-2.5000e+03 -6.3520e+05  9.5793e+06]: Correct\n",
      "Fold 18 on 30: weights: [-3.8000e+03 -5.2660e+05  8.0175e+06]: Correct\n",
      "Fold 19 on 30: weights: [-7.70000e+03 -1.43580e+06  2.16867e+07]: Correct\n",
      "Fold 20 on 30: weights: [-4.00000e+03 -6.65000e+05  1.00648e+07]: Correct\n",
      "Fold 21 on 30: weights: [-5.50000e+03 -1.04650e+06  1.57821e+07]: Correct\n",
      "Fold 22 on 30: weights: [ 8.00000e+02 -7.87800e+05  1.19419e+07]: Correct\n",
      "Fold 23 on 30: weights: [-9.00000e+03 -1.10980e+06  1.68504e+07]: Correct\n",
      "Fold 24 on 30: weights: [-6.90000e+03 -7.43900e+05  1.12695e+07]: Correct\n",
      "Fold 25 on 30: weights: [-1.22000e+04 -1.40910e+06  2.12995e+07]: Correct\n",
      "Fold 26 on 30: weights: [-2.4000e+03 -3.3610e+05  5.0802e+06]: Correct\n",
      "Fold 27 on 30: weights: [-4.2000e+03 -6.4490e+05  9.7386e+06]: Correct\n",
      "Fold 28 on 30: weights: [-1.0000e+02 -5.0040e+05  7.5962e+06]: Correct\n",
      "Fold 29 on 30: weights: [-1.80000e+03 -8.58700e+05  1.30737e+07]: Correct\n",
      "Fold 30 on 30: weights: [-1.8000e+03 -1.7550e+05  2.6583e+06]: Correct\n",
      "Cross-validation accuracy (batch): 1.0\n"
     ]
    }
   ],
   "source": [
    "stoch_accuracy = leave_one_out_cross_val(X, y, fit_stoch)\n",
    "print('Cross-validation accuracy (batch):', stoch_accuracy)"
   ]
  },
  {
   "cell_type": "markdown",
   "id": "global-difficulty",
   "metadata": {},
   "source": [
    "## Visualizing the logistic surface"
   ]
  },
  {
   "cell_type": "code",
   "execution_count": 68,
   "id": "sunrise-tractor",
   "metadata": {},
   "outputs": [],
   "source": [
    "def plot_logistic_surf(x_range, y_range, w_opt):\n",
    "    z_axis = np.array([[0.0] * len(y_range) for i in range(len(x_range))])\n",
    "    x_axis, y_axis = np.meshgrid(x_range, y_range)\n",
    "    z_axis = z_axis.reshape(x_axis.shape)\n",
    "\n",
    "    # We compute the probability surface as a function of x and y\n",
    "    for i in range(len(x_range)):\n",
    "        for j in range(len(y_range)):\n",
    "            z_axis[j, i] = logistic(np.dot([1, x_range[i], y_range[j]], w_opt))\n",
    "    return x_axis, y_axis, z_axis"
   ]
  },
  {
   "cell_type": "code",
   "execution_count": 69,
   "id": "confirmed-plastic",
   "metadata": {},
   "outputs": [
    {
     "name": "stderr",
     "output_type": "stream",
     "text": [
      "C:\\Users\\98all\\AppData\\Local\\Temp\\ipykernel_5188\\3703674631.py:3: RuntimeWarning: overflow encountered in exp\n",
      "  return 1/(1+np.exp(-x))\n",
      "C:\\Users\\98all\\AppData\\Local\\Temp\\ipykernel_5188\\3513707031.py:8: MatplotlibDeprecationWarning: Axes3D(fig) adding itself to the figure is deprecated since 3.4. Pass the keyword argument auto_add_to_figure=False and use fig.add_axes(ax) to suppress this warning. The default value of auto_add_to_figure will change to False in mpl3.5 and True values will no longer work in 3.6.  This is consistent with other Axes classes.\n",
      "  ax = Axes3D(fig)\n"
     ]
    },
    {
     "data": {
      "image/png": "[encoded data removed]",
      "text/plain": [
       "<Figure size 432x288 with 2 Axes>"
      ]
     },
     "metadata": {
      "needs_background": "light"
     },
     "output_type": "display_data"
    }
   ],
   "source": [
    "x_range = np.linspace(0, 100000, 200)\n",
    "y_range = np.linspace(0, 10000, 200)\n",
    "#w = [2.073225839414742, -0.049125455233437906, 0.7440143556104162]\n",
    "\n",
    "x_axis, y_axis, z_axis = plot_logistic_surf(x_range, y_range, w)\n",
    "\n",
    "fig = plt.figure()\n",
    "ax = Axes3D(fig)\n",
    "# ax = fig.gca(projection='3d')\n",
    "\n",
    "surf = ax.plot_surface(y_axis, x_axis, z_axis, rstride=1, cstride=1, cmap=cm.coolwarm,\n",
    "                       linewidth=0, antialiased=False, alpha=0.2)\n",
    "fig.colorbar(surf, shrink=0.5, aspect=5)\n",
    "# We plot the observations\n",
    "for x, y_class in zip(X, y):\n",
    "    if y_class == 1:\n",
    "        ax.scatter(x[2], x[1], y_class, color='green', marker='x')\n",
    "    else:\n",
    "        ax.scatter(x[2], x[1], y_class, color='red', marker='x')\n",
    "\n",
    "ax.elev = 30 \n",
    "ax.azim = -150\n",
    "plt.show()"
   ]
  },
  {
   "cell_type": "markdown",
   "id": "acoustic-ideal",
   "metadata": {},
   "source": [
    "## Programming logistic regression with popular APIs\n",
    "Should you use logistic regression in a project, you will probably resort to existing libraries. In the next cells, you will apply the logistic regression classification with two popular APIs:\n",
    "1. sklearn\n",
    "2. Keras\n",
    "\n",
    "`sklearn` is included in anaconda.\n",
    "You will install the rest with:\n",
    "```\n",
    "pip install --upgrade keras tensorflow tensorflow-addons \n",
    "```\n",
    "You will read and run the code in the cells below."
   ]
  },
  {
   "cell_type": "markdown",
   "id": "synthetic-karma",
   "metadata": {},
   "source": [
    "All these APIs are built on numpy and we convert the dataset into numpy if you have not done it already"
   ]
  },
  {
   "cell_type": "code",
   "execution_count": 70,
   "id": "horizontal-celebrity",
   "metadata": {},
   "outputs": [],
   "source": [
    "X = np.array(X)\n",
    "X_norm = np.array(X_norm)\n",
    "y = np.array(y)"
   ]
  },
  {
   "cell_type": "markdown",
   "id": "linear-institution",
   "metadata": {},
   "source": [
    "They also handle the intercept so we do not need the first column of ones."
   ]
  },
  {
   "cell_type": "code",
   "execution_count": 71,
   "id": "thick-leadership",
   "metadata": {},
   "outputs": [],
   "source": [
    "X = X[:, 1:]\n",
    "X_norm = X_norm[:, 1:]"
   ]
  },
  {
   "cell_type": "markdown",
   "id": "phantom-peter",
   "metadata": {},
   "source": [
    "### sklearn\n",
    "Using the dataset of English and French datapoints, we apply logistic regression with the sklearn API. We need the `LogisticRegression` class, the fit() and predict() functions. The weights are in the `coef_` field."
   ]
  },
  {
   "cell_type": "code",
   "execution_count": 74,
   "id": "adult-young",
   "metadata": {},
   "outputs": [
    {
     "data": {
      "text/plain": [
       "array([[-0.03372363,  0.51169867]])"
      ]
     },
     "execution_count": 74,
     "metadata": {},
     "output_type": "execute_result"
    }
   ],
   "source": [
    "from sklearn.linear_model import LogisticRegression\n",
    "model = LogisticRegression()\n",
    "model = model.fit(X, y)\n",
    "model.coef_"
   ]
  },
  {
   "cell_type": "markdown",
   "id": "effective-adventure",
   "metadata": {},
   "source": [
    "We predict the classes of the $\\mathbf{X}$ with the `predict()` function"
   ]
  },
  {
   "cell_type": "code",
   "execution_count": 75,
   "id": "bizarre-african",
   "metadata": {},
   "outputs": [
    {
     "data": {
      "text/plain": [
       "array([0., 0., 0., 0., 0., 0., 0., 0., 0., 0., 0., 0., 0., 0., 0., 1., 1.,\n",
       "       1., 1., 1., 1., 1., 1., 1., 1., 1., 1., 1., 1., 1.])"
      ]
     },
     "execution_count": 75,
     "metadata": {},
     "output_type": "execute_result"
    }
   ],
   "source": [
    "model.predict(X)"
   ]
  },
  {
   "cell_type": "markdown",
   "id": "dental-watson",
   "metadata": {},
   "source": [
    "We predict the class probabilities of the $\\mathbf{X}$ with the `predict_proba()` function"
   ]
  },
  {
   "cell_type": "code",
   "execution_count": 76,
   "id": "composed-playlist",
   "metadata": {},
   "outputs": [
    {
     "data": {
      "text/plain": [
       "array([[1.00000000e+00, 1.28980319e-30],\n",
       "       [9.99999999e-01, 8.16295157e-10],\n",
       "       [9.91302434e-01, 8.69756611e-03],\n",
       "       [1.00000000e+00, 2.35657080e-12],\n",
       "       [1.00000000e+00, 1.01085544e-22],\n",
       "       [1.00000000e+00, 3.56287478e-11],\n",
       "       [1.00000000e+00, 1.62389438e-24],\n",
       "       [1.00000000e+00, 5.76610689e-17],\n",
       "       [1.00000000e+00, 2.72458519e-12],\n",
       "       [9.94843591e-01, 5.15640906e-03],\n",
       "       [9.89714656e-01, 1.02853437e-02],\n",
       "       [1.00000000e+00, 4.22127774e-11],\n",
       "       [1.00000000e+00, 1.22665951e-41],\n",
       "       [1.00000000e+00, 7.37721442e-22],\n",
       "       [1.00000000e+00, 3.90177203e-16],\n",
       "       [1.33226763e-15, 1.00000000e+00],\n",
       "       [0.00000000e+00, 1.00000000e+00],\n",
       "       [1.92390717e-02, 9.80760928e-01],\n",
       "       [0.00000000e+00, 1.00000000e+00],\n",
       "       [1.01629571e-09, 9.99999999e-01],\n",
       "       [0.00000000e+00, 1.00000000e+00],\n",
       "       [0.00000000e+00, 1.00000000e+00],\n",
       "       [0.00000000e+00, 1.00000000e+00],\n",
       "       [0.00000000e+00, 1.00000000e+00],\n",
       "       [0.00000000e+00, 1.00000000e+00],\n",
       "       [0.00000000e+00, 1.00000000e+00],\n",
       "       [0.00000000e+00, 1.00000000e+00],\n",
       "       [0.00000000e+00, 1.00000000e+00],\n",
       "       [0.00000000e+00, 1.00000000e+00],\n",
       "       [1.80182968e-02, 9.81981703e-01]])"
      ]
     },
     "execution_count": 76,
     "metadata": {},
     "output_type": "execute_result"
    }
   ],
   "source": [
    "model.predict_proba(X)"
   ]
  },
  {
   "cell_type": "markdown",
   "id": "developing-oxygen",
   "metadata": {},
   "source": [
    "### Keras\n",
    "Using the dataset of English and French datapoints, we apply logistic regression with Keras. We need the `Sequential` and `Dense` classes."
   ]
  },
  {
   "cell_type": "code",
   "execution_count": 77,
   "id": "urban-analysis",
   "metadata": {},
   "outputs": [],
   "source": [
    "from tensorflow.keras import Sequential \n",
    "from tensorflow.keras.layers import Dense"
   ]
  },
  {
   "cell_type": "code",
   "execution_count": 78,
   "id": "healthy-kingdom",
   "metadata": {},
   "outputs": [
    {
     "name": "stdout",
     "output_type": "stream",
     "text": [
      "Model: \"sequential\"\n",
      "_________________________________________________________________\n",
      " Layer (type)                Output Shape              Param #   \n",
      "=================================================================\n",
      " dense (Dense)               (None, 1)                 3         \n",
      "                                                                 \n",
      "=================================================================\n",
      "Total params: 3\n",
      "Trainable params: 3\n",
      "Non-trainable params: 0\n",
      "_________________________________________________________________\n"
     ]
    }
   ],
   "source": [
    "# Write your code here\n",
    "model = Sequential()\n",
    "model.add(Dense(1, input_dim=2, activation='sigmoid'))\n",
    "model.compile(loss='binary_crossentropy',\n",
    "              optimizer='nadam',\n",
    "              metrics=['accuracy'])\n",
    "model.summary()"
   ]
  },
  {
   "cell_type": "markdown",
   "id": "animated-baseball",
   "metadata": {},
   "source": [
    "We fit the model"
   ]
  },
  {
   "cell_type": "code",
   "execution_count": 79,
   "id": "critical-banner",
   "metadata": {},
   "outputs": [
    {
     "data": {
      "text/plain": [
       "<keras.callbacks.History at 0x1a0bb86a0e0>"
      ]
     },
     "execution_count": 79,
     "metadata": {},
     "output_type": "execute_result"
    }
   ],
   "source": [
    "model.fit(X, y, epochs=2100, batch_size=4, verbose=0)"
   ]
  },
  {
   "cell_type": "code",
   "execution_count": 80,
   "id": "simple-aside",
   "metadata": {},
   "outputs": [
    {
     "data": {
      "text/plain": [
       "array([0., 0., 0., 0., 0., 0., 0., 0., 0., 0., 0., 0., 0., 0., 0., 1., 1.,\n",
       "       1., 1., 1., 1., 1., 1., 1., 1., 1., 1., 1., 1., 1.])"
      ]
     },
     "execution_count": 80,
     "metadata": {},
     "output_type": "execute_result"
    }
   ],
   "source": [
    "y"
   ]
  },
  {
   "cell_type": "code",
   "execution_count": 81,
   "id": "genuine-latino",
   "metadata": {},
   "outputs": [
    {
     "data": {
      "text/plain": [
       "array([[0.0000000e+00],\n",
       "       [6.9496120e-16],\n",
       "       [5.6388974e-04],\n",
       "       [4.8670981e-20],\n",
       "       [3.3147166e-37],\n",
       "       [4.0111216e-18],\n",
       "       [0.0000000e+00],\n",
       "       [1.0282558e-27],\n",
       "       [6.7391742e-20],\n",
       "       [1.9443035e-04],\n",
       "       [4.9310923e-04],\n",
       "       [5.3896533e-18],\n",
       "       [0.0000000e+00],\n",
       "       [3.6521761e-36],\n",
       "       [3.6110364e-26],\n",
       "       [1.0000000e+00],\n",
       "       [1.0000000e+00],\n",
       "       [9.9899364e-01],\n",
       "       [1.0000000e+00],\n",
       "       [1.0000000e+00],\n",
       "       [1.0000000e+00],\n",
       "       [1.0000000e+00],\n",
       "       [1.0000000e+00],\n",
       "       [1.0000000e+00],\n",
       "       [1.0000000e+00],\n",
       "       [1.0000000e+00],\n",
       "       [1.0000000e+00],\n",
       "       [1.0000000e+00],\n",
       "       [1.0000000e+00],\n",
       "       [9.9905133e-01]], dtype=float32)"
      ]
     },
     "execution_count": 81,
     "metadata": {},
     "output_type": "execute_result"
    }
   ],
   "source": [
    "model.predict(X)"
   ]
  },
  {
   "cell_type": "code",
   "execution_count": 36,
   "id": "contemporary-museum",
   "metadata": {},
   "outputs": [
    {
     "name": "stderr",
     "output_type": "stream",
     "text": [
      "/Users/pierre/opt/anaconda3/lib/python3.8/site-packages/tensorflow/python/keras/engine/sequential.py:459: UserWarning: `model.predict_classes()` is deprecated and will be removed after 2021-01-01. Please use instead:* `np.argmax(model.predict(x), axis=-1)`,   if your model does multi-class classification   (e.g. if it uses a `softmax` last-layer activation).* `(model.predict(x) > 0.5).astype(\"int32\")`,   if your model does binary classification   (e.g. if it uses a `sigmoid` last-layer activation).\n",
      "  warnings.warn('`model.predict_classes()` is deprecated and '\n"
     ]
    },
    {
     "data": {
      "text/plain": [
       "array([[0],\n",
       "       [0],\n",
       "       [0],\n",
       "       [0],\n",
       "       [0],\n",
       "       [0],\n",
       "       [0],\n",
       "       [0],\n",
       "       [0],\n",
       "       [0],\n",
       "       [0],\n",
       "       [0],\n",
       "       [0],\n",
       "       [0],\n",
       "       [0],\n",
       "       [1],\n",
       "       [1],\n",
       "       [1],\n",
       "       [1],\n",
       "       [1],\n",
       "       [1],\n",
       "       [1],\n",
       "       [1],\n",
       "       [1],\n",
       "       [1],\n",
       "       [1],\n",
       "       [1],\n",
       "       [1],\n",
       "       [1],\n",
       "       [1]], dtype=int32)"
      ]
     },
     "execution_count": 36,
     "metadata": {},
     "output_type": "execute_result"
    }
   ],
   "source": [
    "(model.predict(X) > 0.5).astype('int32')"
   ]
  },
  {
   "cell_type": "markdown",
   "id": "close-premium",
   "metadata": {},
   "source": [
    "If you do not obtain a correct classification, rerun the training with more epochs."
   ]
  },
  {
   "cell_type": "markdown",
   "id": "handmade-involvement",
   "metadata": {},
   "source": [
    "## Reading\n",
    "You will read the article *An overview of gradient descent optimization algorithms* by Ruder (2017) and you will outline the main characteristics of all the optimization algorithms the author describes. This part should be of about one to two pages. Link to the article: https://arxiv.org/abs/1609.04747\n",
    "\n",
    "If you understand French, or using Google translate, you may also want to read the original article on gradient descent by Cauchy here:  https://gallica.bnf.fr/ark:/12148/bpt6k2982c/f540.item.\n"
   ]
  },
  {
   "cell_type": "markdown",
   "id": "packed-student",
   "metadata": {},
   "source": [
    "### Report\n",
    "\n",
    "The assignment must be documented in the report, which should contain the following:\n",
    "\n",
    "*   The name of the author, the title of the assignment, and any relevant information on the front page;\n",
    "*   A presentation of the assignment and the possible improvements you would have brought;\n",
    "*   A presentation of your implementation;\n",
    "*   A print-out of the example set(s) and the resulting weight vectors;\n",
    "*   Comments on the results you have obtained, including your cross validation;\n",
    "*   A short dissertation on the optimization algorithms from Ruder's paper.\n",
    "\n",
    "Please, typeset and format your report consistently. You must use Latex. Documents written using MS Word or any similar format will not be considered.\n",
    "\n",
    "You may have a look at the code in the textbook code repository (or any other implementations), but the code you hand in must be your work."
   ]
  },
  {
   "cell_type": "markdown",
   "id": "apparent-cedar",
   "metadata": {},
   "source": [
    "## Submission\n",
    "Submit the notebook and the report to Canvas (two files). Do not include the code printout in the report, but only comments on its interesting parts. You will submit the notebook as a separate file."
   ]
  },
  {
   "cell_type": "code",
   "execution_count": null,
   "id": "endangered-occurrence",
   "metadata": {},
   "outputs": [],
   "source": []
  }
 ],
 "metadata": {
  "kernelspec": {
   "display_name": "Python 3 (ipykernel)",
   "language": "python",
   "name": "python3"
  },
  "language_info": {
   "codemirror_mode": {
    "name": "ipython",
    "version": 3
   },
   "file_extension": ".py",
   "mimetype": "text/x-python",
   "name": "python",
   "nbconvert_exporter": "python",
   "pygments_lexer": "ipython3",
   "version": "3.10.2"
  }
 },
 "nbformat": 4,
 "nbformat_minor": 5
}
